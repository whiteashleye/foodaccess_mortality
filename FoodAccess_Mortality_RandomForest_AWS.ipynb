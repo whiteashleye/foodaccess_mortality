{
 "cells": [
  {
   "cell_type": "code",
   "execution_count": 1,
   "metadata": {},
   "outputs": [],
   "source": [
    "import pandas as pd\n",
    "import numpy as np\n",
    "import seaborn as sns\n",
    "import matplotlib.pyplot as plt\n",
    "\n",
    "from sklearn import linear_model\n",
    "\n",
    "from sklearn.model_selection import train_test_split, KFold, cross_val_score\n",
    "from sklearn import metrics\n",
    "from sklearn.preprocessing import StandardScaler, PolynomialFeatures\n",
    "from sklearn.model_selection import GridSearchCV\n",
    "\n",
    "from sklearn.ensemble import RandomForestRegressor, AdaBoostRegressor, BaggingRegressor\n",
    "\n",
    "sns.set(style=\"white\")\n",
    "\n",
    "import warnings\n",
    "warnings.filterwarnings(\"ignore\")"
   ]
  },
  {
   "cell_type": "code",
   "execution_count": 2,
   "metadata": {},
   "outputs": [],
   "source": [
    "df = pd.read_csv('./df_foodaccess_allmortality_SVI.csv')"
   ]
  },
  {
   "cell_type": "code",
   "execution_count": 3,
   "metadata": {},
   "outputs": [
    {
     "data": {
      "text/plain": [
       "Deaths Thyroid                          0.994603\n",
       "Crude Rate Thyroid                      0.994603\n",
       "Age Adjusted Rate Thyroid               0.994603\n",
       "Crude Rate MalignantEndocrine           0.989206\n",
       "Age Adjusted Rate MalignantEndocrine    0.989206\n",
       "Deaths MalignantEndocrine               0.989206\n",
       "Deaths Obesity                          0.964127\n",
       "Age Adjusted Rate Obesity               0.964127\n",
       "Crude Rate Obesity                      0.964127\n",
       "Deaths Psychoactive                     0.939365\n",
       "Crude Rate Psychoactive                 0.939365\n",
       "Age Adjusted Rate Psychoactive          0.939365\n",
       "Age Adjusted Rate Assault               0.917143\n",
       "Crude Rate Assault                      0.917143\n",
       "Deaths Assault                          0.917143\n",
       "Deaths Pulmonary                        0.902857\n",
       "Crude Rate Pulmonary                    0.902857\n",
       "Age Adjusted Rate Pulmonary             0.902857\n",
       "Age Adjusted Rate Metabolic             0.863175\n",
       "Deaths Metabolic                        0.863175\n",
       "Crude Rate Metabolic                    0.863175\n",
       "Deaths Arteries                         0.823492\n",
       "Crude Rate Arteries                     0.823492\n",
       "Age Adjusted Rate Arteries              0.823492\n",
       "Age Adjusted Rate MalignantFemale       0.819365\n",
       "Deaths MalignantFemale                  0.819365\n",
       "Crude Rate MalignantFemale              0.819365\n",
       "Crude Rate MalignantMale                0.810476\n",
       "Age Adjusted Rate MalignantMale         0.810476\n",
       "Deaths MalignantMale                    0.810476\n",
       "Deaths MalignantBreast                  0.749524\n",
       "Crude Rate MalignantBreast              0.749524\n",
       "Age Adjusted Rate MalignantBreast       0.749524\n",
       "Age Adjusted Rate Intentional           0.735556\n",
       "Crude Rate Intentional                  0.735556\n",
       "Deaths Intentional                      0.735556\n",
       "Deaths Transport                        0.693968\n",
       "Age Adjusted Rate Transport             0.693968\n",
       "Crude Rate Transport                    0.693968\n",
       "dtype: float64"
      ]
     },
     "execution_count": 3,
     "metadata": {},
     "output_type": "execute_result"
    }
   ],
   "source": [
    "df.isnull().mean().sort_values(ascending = False).head(39)"
   ]
  },
  {
   "cell_type": "markdown",
   "metadata": {},
   "source": [
    "## <font color = darkorchid> Feature Selection </font>"
   ]
  },
  {
   "cell_type": "code",
   "execution_count": 4,
   "metadata": {},
   "outputs": [],
   "source": [
    "# Create feature list with percentage metrics\n",
    "features_proportional_share = ['GroupQuartersFlag', \n",
    "                               'PovertyRate',\n",
    "                               'LILATracts_1And10', 'LILATracts_1And20',\n",
    "                               'LILATracts_Vehicle', 'LILATracts_halfAnd10', \n",
    "                               'LowIncomeTracts',\n",
    "                               'LA1and10', 'LA1and20', 'LAhalfand10',\n",
    "                               'lablack10share', 'lablack20share', \n",
    "                               'lahisp10share', 'lahisp20share', \n",
    "                               'lahunv10share', 'lahunv20share', \n",
    "                               'lalowi10share', 'lalowi20share', \n",
    "                               'lapop10share', 'lapop20share',\n",
    "                               'lasnap10share', 'lasnap20share',\n",
    "                               'lawhite10share', 'lawhite20share' \n",
    "                              ]"
   ]
  },
  {
   "cell_type": "code",
   "execution_count": 5,
   "metadata": {},
   "outputs": [],
   "source": [
    "# Create feature list with population metrics\n",
    "features_population = ['NUMGQTRS',\n",
    "                       'MedianFamilyIncome', \n",
    "                       'LALOWI05_10', 'LALOWI1_10', 'LALOWI1_20',\n",
    "                       'LAPOP05_10', 'LAPOP1_10', 'LAPOP1_20', \n",
    "                       'TractBlack', 'TractHUNV', 'TractHispanic',\n",
    "                       'TractLOWI', 'TractSNAP', 'TractWhite', \n",
    "                       'lablack10','lablack20', 'lahisp10', 'lahisp20',\n",
    "                       'lahunv10', 'lahunv20','lalowi10', 'lalowi20',\n",
    "                       'lapop10', 'lapop20','lasnap10', 'lasnap20',\n",
    "                       'lawhite10', 'lawhite20', \n",
    "                 ]"
   ]
  },
  {
   "cell_type": "code",
   "execution_count": 6,
   "metadata": {},
   "outputs": [],
   "source": [
    "features_combined = features_population + features_proportional_share"
   ]
  },
  {
   "cell_type": "code",
   "execution_count": 7,
   "metadata": {},
   "outputs": [],
   "source": [
    "# Set age adjusted rates as targets\n",
    "target_list = ['Age Adjusted Rate Endocrine',\n",
    "               'Age Adjusted Rate Obesity', 'Age Adjusted Rate Metabolic', 'Age Adjusted Rate Diabetes', \n",
    "               'Age Adjusted Rate Circulatory',\n",
    "               'Age Adjusted Rate Pulmonary', 'Age Adjusted Rate Arteries', 'Age Adjusted Rate Hypertension',\n",
    "               'Age Adjusted Rate External',\n",
    "               'Age Adjusted Rate Assault', 'Age Adjusted Rate Intentional', 'Age Adjusted Rate Transport',\n",
    "               'Age Adjusted Rate Mental',\n",
    "               'Age Adjusted Rate Psychoactive',\n",
    "               'Age Adjusted Rate Neoplasms', \n",
    "               'Age Adjusted Rate MalignantDigestive', 'Age Adjusted Rate MalignantBreast', 'Age Adjusted Rate MalignantFemale', 'Age Adjusted Rate MalignantMale', 'Age Adjusted Rate MalignantEndocrine',\n",
    "               'Age Adjusted Rate All']"
   ]
  },
  {
   "cell_type": "code",
   "execution_count": 8,
   "metadata": {},
   "outputs": [],
   "source": [
    "# Define function to consolidate r2 & MAE\n",
    "def make_scores_df(r2_train, r2_test, mae_train, mae_test, model):\n",
    "    r2 = pd.DataFrame(data = np.array([[np.mean(r2_train)],[np.mean(r2_test)]]), \n",
    "                 index = ['R^2 Train', 'R^2 Test'], columns = [model])\n",
    "\n",
    "    mae = pd.DataFrame(data = np.array([[np.mean(mae_train)],[np.mean(mae_test)]]), \n",
    "                 index = ['MAE Train', 'MAE Test'], columns = [model])\n",
    "\n",
    "    combined_scores = pd.merge(r2, mae, on = model, how = 'outer',\n",
    "                               left_index = True, right_index = True)\n",
    "    \n",
    "    return combined_scores"
   ]
  },
  {
   "cell_type": "markdown",
   "metadata": {},
   "source": [
    "## <font color = darkorchid> RandomForest </font>"
   ]
  },
  {
   "cell_type": "code",
   "execution_count": 9,
   "metadata": {},
   "outputs": [],
   "source": [
    "# Drop if target value is not available\n",
    "df_rf = df.dropna(subset = ['Age Adjusted Rate All'])\n",
    "\n",
    "# Bootstrap observations\n",
    "df_rf_sample = df_rf.sample(n = df_rf.shape[0], replace = True)\n",
    "\n",
    "df_rf = pd.concat([df_rf, df_rf_sample])\n",
    "\n",
    "# Set features to percentage metrics\n",
    "X = df_rf[features_combined]\n",
    "y = df_rf['Age Adjusted Rate All']\n",
    "\n",
    "# Train / Test Split\n",
    "X_train, X_test, y_train, y_test = train_test_split(X, y)\n",
    "\n",
    "# StandardScale features\n",
    "ss = StandardScaler()\n",
    "X_train = ss.fit_transform(X_train)\n",
    "X_test = ss.transform(X_test)"
   ]
  },
  {
   "cell_type": "code",
   "execution_count": 10,
   "metadata": {},
   "outputs": [
    {
     "name": "stderr",
     "output_type": "stream",
     "text": [
      "[Parallel(n_jobs=-1)]: Done   6 out of  10 | elapsed:    0.1s remaining:    0.1s\n",
      "[Parallel(n_jobs=-1)]: Done  10 out of  10 | elapsed:    0.2s finished\n"
     ]
    },
    {
     "data": {
      "text/plain": [
       "RandomForestRegressor(bootstrap=True, criterion='mse', max_depth=None,\n",
       "           max_features='auto', max_leaf_nodes=None,\n",
       "           min_impurity_decrease=0.0, min_impurity_split=None,\n",
       "           min_samples_leaf=1, min_samples_split=2,\n",
       "           min_weight_fraction_leaf=0.0, n_estimators=10, n_jobs=-1,\n",
       "           oob_score=False, random_state=None, verbose=1, warm_start=False)"
      ]
     },
     "execution_count": 10,
     "metadata": {},
     "output_type": "execute_result"
    }
   ],
   "source": [
    "# Instantiate and fit Random Forest\n",
    "rf = RandomForestRegressor(n_jobs = -1, verbose = 1)\n",
    "rf.fit(X_train, y_train)"
   ]
  },
  {
   "cell_type": "code",
   "execution_count": 11,
   "metadata": {},
   "outputs": [],
   "source": [
    "params = [{'n_estimators': [200],\n",
    "           'criterion': ['mse'],\n",
    "           'min_samples_split': [2, 3],\n",
    "           'min_impurity_split': [0.0, 0.1],\n",
    "           'max_depth': [None],\n",
    "           'max_features': ['sqrt', 'auto'],\n",
    "           'min_samples_leaf': [1],\n",
    "           'bootstrap': [False],\n",
    "           'warm_start': [False]\n",
    "         }]\n",
    "\n",
    "rf_GS = GridSearchCV(rf, params,  verbose = 1).fit(X_train, y_train)"
   ]
  },
  {
   "cell_type": "code",
   "execution_count": 13,
   "metadata": {},
   "outputs": [
    {
     "name": "stdout",
     "output_type": "stream",
     "text": [
      "0.728588310551414\n",
      "{'bootstrap': False, 'criterion': 'mse', 'max_depth': None, 'max_features': 'sqrt', 'min_impurity_split': 0.1, 'min_samples_leaf': 1, 'min_samples_split': 2, 'n_estimators': 200, 'warm_start': False}\n"
     ]
    }
   ],
   "source": [
    "print(rf_GS.best_score_)\n",
    "print(rf_GS.best_params_)"
   ]
  }
 ],
 "metadata": {
  "kernelspec": {
   "display_name": "Environment (conda_python3)",
   "language": "python",
   "name": "conda_python3"
  },
  "language_info": {
   "codemirror_mode": {
    "name": "ipython",
    "version": 3
   },
   "file_extension": ".py",
   "mimetype": "text/x-python",
   "name": "python",
   "nbconvert_exporter": "python",
   "pygments_lexer": "ipython3",
   "version": "3.6.5"
  }
 },
 "nbformat": 4,
 "nbformat_minor": 2
}
